{
 "cells": [
  {
   "attachments": {},
   "cell_type": "markdown",
   "metadata": {},
   "source": [
    "<div style=\"color: white;padding-top:18px;text-align:center;background-color:#8B008B;border-radius:15px;border: 1px solid white;\"> \n",
    "    <h3>Exercise 3 (score:350)</h3>\n",
    "</div>"
   ]
  },
  {
   "attachments": {},
   "cell_type": "markdown",
   "metadata": {},
   "source": [
    "<div style=\"color: black;font-family:Georgia;padding-top:18px;text-align:left;background-color:lightskyblue;border-radius:15px;border: 2px solid cornflowerblue;\"> \n",
    "    <h4>Question 01 (String)</h4>\n",
    "    <p>Get a string from user and check length of that, if length of string was even\n",
    "show first half of string otherwise print last half of string.\n",
    "</p>\n",
    "    \n",
    "</div>"
   ]
  },
  {
   "cell_type": "code",
   "execution_count": 8,
   "metadata": {},
   "outputs": [
    {
     "name": "stdout",
     "output_type": "stream",
     "text": [
      "pyt\n"
     ]
    }
   ],
   "source": [
    "str1=input(\"Enter your str:\")\n",
    "len_str1=len(str1)\n",
    "if len_str1 % 2 == 0:\n",
    "    p1 = len_str1//2\n",
    "    print(str1[:p1])\n",
    "else:\n",
    "    p2 = len_str1//2\n",
    "    print(str1[p2:])"
   ]
  },
  {
   "attachments": {},
   "cell_type": "markdown",
   "metadata": {},
   "source": [
    "<div style=\"color: black;font-family:Georgia;padding-top:18px;text-align:left;background-color:lightskyblue;border-radius:15px;border: 1px solid cornflowerblue;\"> \n",
    "    <h4>Question 02 (String)</h4>\n",
    "<p>\n",
    "based on the below text answer to questions.\n",
    "</p>\n",
    "\n",
    "<ul>\n",
    "    <li>\n",
    "        Divide the text into two halves. If length of string is odd, include the middle character in the first half.\n",
    "    </li>\n",
    "    <br>\n",
    "    <li>\n",
    "        In the first half of the text, replace all occurrences of the word \"Python\" with \"Java\".\n",
    "    </li>\n",
    "    <br>\n",
    "    <li>\n",
    "       In the second half of the text, replace all occurrences of the word \"Python\" with \"C++\" \n",
    "    </li>\n",
    "    <br>\n",
    "    <li>\n",
    "        Combine both halves back into a single text and print the modified text\n",
    "    </li>\n",
    "    <br>\n",
    "    <li>\n",
    "        How many times was the word \"Python\" replaced in the first half?\n",
    "    </li>\n",
    "    <br>\n",
    "    <li>\n",
    "        How many times was the word \"Python\" replaced in the second half?\n",
    "    </li>\n",
    "</ul>\n",
    "\n",
    "<br>\n",
    "<p>Here is the text:</p>\n",
    "\n",
    "<p>\n",
    "    Python is a widely-used programming language known for its simplicity. Python supports various\n",
    "    programming paradigms. Python's code readability makes it a favorite among developers. Python is\n",
    "    ideal for rapidly prototyping applications.\n",
    "</p>\n",
    "\n",
    "</div>"
   ]
  },
  {
   "cell_type": "code",
   "execution_count": 22,
   "metadata": {},
   "outputs": [
    {
     "name": "stdout",
     "output_type": "stream",
     "text": [
      "Java is a widely-used programming language known for its simplicity. Java supports various programming paradigms. C++'s code readability makes it a favorate among developers. C++ is ideal for rapidly prototyping applications.\n",
      "2 2\n"
     ]
    }
   ],
   "source": [
    "part = \"Python is a widely-used programming language known for its simplicity. Python supports various programming paradigms. Python's code readability makes it a favorate among developers. Python is ideal for rapidly prototyping applications.\"\n",
    "len_part = len(part) \n",
    "p = len_part//2\n",
    "part1 = (part[:p+1])\n",
    "part2 = (part[p+1:])\n",
    "part3 = part1.replace(\"Python\" , \"Java\")\n",
    "part4 = part2.replace(\"Python\" , \"C++\")\n",
    "part5 = part3 + part4\n",
    "print(part5)\n",
    "c1 = part1.count(\"Python\")\n",
    "c2 = part2.count(\"Python\")\n",
    "print(c1 , c2)\n"
   ]
  },
  {
   "attachments": {},
   "cell_type": "markdown",
   "metadata": {},
   "source": [
    "<div style=\"color: black;font-family:Georgia;padding-top:18px;text-align:left;background-color:lightskyblue;border-radius:15px;border: 1px solid cornflowerblue;\"> \n",
    "    <h4>Question 03 (String)</h4>\n",
    "<p>Write a program that prompts the user to enter a text. The program should then\n",
    "remove all the spaces from the entered text and display the result.</p>\n",
    "\n",
    "</div>"
   ]
  },
  {
   "cell_type": "code",
   "execution_count": 25,
   "metadata": {},
   "outputs": [
    {
     "name": "stdout",
     "output_type": "stream",
     "text": [
      "AshkanIsAGoodStudent.\n"
     ]
    }
   ],
   "source": [
    "text1 = input(\"Enter your text:\")\n",
    "result = text1.replace(\" \",\"\")\n",
    "print(result)"
   ]
  },
  {
   "attachments": {},
   "cell_type": "markdown",
   "metadata": {},
   "source": [
    "<div style=\"color: black;font-family:Georgia;padding-top:18px;text-align:left;background-color:lightskyblue;border-radius:15px;border: 1px solid cornflowerblue;\"> \n",
    "    <h4>Question 04 (String)</h4>\n",
    "<p>Write a program that prompts the user to enter two strings. if the second\n",
    "string is present in the first string, remove it, otherwise add the second\n",
    "string at the start and end of the first string. Display the new string in the\n",
    "output.</p>\n",
    "\n",
    "</div>"
   ]
  },
  {
   "cell_type": "code",
   "execution_count": 4,
   "metadata": {},
   "outputs": [
    {
     "name": "stdout",
     "output_type": "stream",
     "text": [
      "java I am learning paython java\n"
     ]
    }
   ],
   "source": [
    "s1 = input(\"Enter first str:\")\n",
    "s2 = input(\"Enter second str:\")\n",
    "c1 = s1.count(s2)\n",
    "if c1 != 0:\n",
    "    s3 = s1.replace(s2 , \"\")\n",
    "    print(s3)\n",
    "else:\n",
    "    s4 = s2 + \" \" + s1 + \" \"  + s2\n",
    "    print(s4)"
   ]
  },
  {
   "attachments": {},
   "cell_type": "markdown",
   "metadata": {},
   "source": [
    "<div style=\"color: black;font-family:Georgia;padding-top:18px;text-align:left;background-color:lightskyblue;border-radius:15px;border: 1px solid cornflowerbue;\"> \n",
    "    <h4>Question 05 (String)\n",
    "</h4>\n",
    "<p>Write a program that prompts the user to enter a password. The program\n",
    "should validate the password based on the following criteria:</p>\n",
    "\n",
    "<ul>\n",
    "    <li>The length of the password must be exactly 8 characters.</li>\n",
    "    <li>The first four characters of the password must be letters (alphabets).</li>\n",
    "    <li>The last four characters of the password must be digits (numbers).</li>\n",
    "    <li>If the password meets all the above criteria, the program should display \"Valid\".\n",
    "        Otherwise, it should display \"Invalid\".\n",
    "    </li>\n",
    "    <br>\n",
    "</ul>\n",
    "\n",
    "</div>"
   ]
  },
  {
   "cell_type": "code",
   "execution_count": 6,
   "metadata": {},
   "outputs": [
    {
     "name": "stdout",
     "output_type": "stream",
     "text": [
      "Valid\n"
     ]
    }
   ],
   "source": [
    "pas = input(\"Enter ypur password:\")\n",
    "len_pas = len(pas)\n",
    "pas1 = pas[:4]\n",
    "pas2 = pas[4:]\n",
    "if (len_pas == 8 and pas1.isalpha() == True and pas2.isdigit() == True):\n",
    "    print(\"Valid\")\n",
    "else:\n",
    "    print(\"Invalid\")\n"
   ]
  },
  {
   "attachments": {},
   "cell_type": "markdown",
   "metadata": {},
   "source": [
    "<div style=\"color: white;padding-top:18px;text-align:center;background-color:#8B008B;border-radius:15px;border: 1px solid white;\"> \n",
    "    <h3>Exercise 4 (score:300)</h3>\n",
    "</div>"
   ]
  },
  {
   "attachments": {},
   "cell_type": "markdown",
   "metadata": {},
   "source": [
    "<div style=\"color: black;font-family:Georgia;padding-top:18px;text-align:left;background-color:lightskyblue;border-radius:15px;border: 1px solid cornflowerblue;\"> \n",
    "    <h4>Question 01 (Loop)</h4>\n",
    "<p>Create a program that prompts the user to input a string. The program should\n",
    "then analyze the string to determine the number of alphabetic characters\n",
    "(letters) and the number of numeric characters (digits) contained within it.\n",
    "</p>\n",
    "\n",
    "</div>"
   ]
  },
  {
   "cell_type": "code",
   "execution_count": 9,
   "metadata": {},
   "outputs": [
    {
     "name": "stdout",
     "output_type": "stream",
     "text": [
      "count_l : 1\n",
      "count_l : 2\n",
      "count_l : 3\n",
      "count_d : 1\n",
      "count_l : 4\n",
      "count_l : 5\n",
      "count_l : 6\n",
      "count_d : 2\n",
      "count_d : 3\n",
      "count_d : 4\n"
     ]
    }
   ],
   "source": [
    "str_c = input(\"Enter your string:\")\n",
    "count_l = 0\n",
    "count_d = 0\n",
    "for i in str_c:\n",
    "    if i.isdigit() == True:\n",
    "        count_d = count_d + 1\n",
    "        print(f\"count_d : {count_d}\")\n",
    "    elif i.isalpha() == True:\n",
    "        count_l = count_l +1\n",
    "        print(f\"count_l : {count_l}\")"
   ]
  },
  {
   "attachments": {},
   "cell_type": "markdown",
   "metadata": {},
   "source": [
    "<div style=\"color: black;font-family:Georgia;padding-top:18px;text-align:left;background-color:lightskyblue;border-radius:15px;border: 1px solid cornflowerblue;\"> \n",
    "    <h4>Question 02 (Loop)</h4>\n",
    "<p>Get five strings from the user using a loop and display each of them that has a\n",
    "length greater than 6.\n",
    "</p>\n",
    "\n",
    "</div>"
   ]
  },
  {
   "cell_type": "code",
   "execution_count": 10,
   "metadata": {},
   "outputs": [
    {
     "name": "stdout",
     "output_type": "stream",
     "text": [
      "ashkanj\n",
      "qwertyu\n",
      "jhgfdsaa\n"
     ]
    }
   ],
   "source": [
    "for i in range (5):\n",
    "    str_k = input(\"Enter your string:\")\n",
    "    if len(str_k) > 6:\n",
    "        print(str_k)"
   ]
  },
  {
   "attachments": {},
   "cell_type": "markdown",
   "metadata": {},
   "source": [
    "<div style=\"color: black;font-family:Georgia;padding-top:18px;text-align:left;background-color:lightskyblue;border-radius:15px;border: 1px solid cornflowerblue;\"> \n",
    "    <h4>Question 03 (Loop)</h4>\n",
    "<p>Write a program to analyze the scores of 10 students in a class. You need to\n",
    "collect the name and score (out of 20) for each student. Based on their\n",
    "scores, you need to assign them a level as follows: \n",
    "</p>\n",
    "\n",
    "<ul>\n",
    "    <li>A+ : If the score is between 17 and 20 (inclusive)</li>\n",
    "    <li>A : If the score is between 15 and less than 17</li>\n",
    "    <li>B : If the score is between 10 and less than 15</li>\n",
    "    <li>C : If the score is less than 10</li>\n",
    "</ul>\n",
    "\n",
    "<p>\n",
    "    Your program should display the following:\n",
    "</p>\n",
    "\n",
    "<ul>\n",
    "    <li>The name, score, and level of each student.</li>\n",
    "    <li>The name and score of the student with the highest score.</li>\n",
    "    <li>The name and score of the student with the lowest score.</li>\n",
    "    <li>The average score of the class.</li>\n",
    "    <li>\n",
    "        Make sure to validate the input to ensure that the score is a positive number and less than\n",
    "        or equal to 20.\n",
    "    </li>\n",
    "</ul>\n",
    "\n",
    "</div>"
   ]
  },
  {
   "cell_type": "code",
   "execution_count": 3,
   "metadata": {},
   "outputs": [
    {
     "name": "stdout",
     "output_type": "stream",
     "text": [
      "ashkan, 20.0, level of student: A+\n",
      "ali, 19.0, level of student: A+\n",
      "ahmad, 17.0, level of student: A+\n",
      "mohsen, 16.0, level of student: A\n",
      "morteza, 14.0, level of student: B\n",
      "taha, 13.0, level of student: B\n",
      "abdolah, 11.0, level of student: B\n",
      "artin, 8.0, level of student: C\n",
      "parham, 0.0, level of student: C\n",
      "kourosh, 1.0, level of student: C\n",
      "kasra, 19.0, level of student: A+\n",
      "karim, 19.5, level of student: A+\n",
      "babak, 12.5, level of student: B\n",
      "hassan, 14.0, level of student: B\n",
      "nariman, 17.0, level of student: A+\n",
      "max_num: 20.0, nariman\n",
      "min_num: 0.0, nariman\n",
      "mean_num: 13.4\n"
     ]
    }
   ],
   "source": [
    "max_num = 0\n",
    "min_num = 20\n",
    "sum_num = 0\n",
    "count_num = 0\n",
    "for i in range(1,21):\n",
    "    name = input(\"Enter name of student:\")\n",
    "    score = float(input(\"Enter student score:\"))\n",
    "    if (20 < score or score < 0):\n",
    "        continue\n",
    "    count_num += 1\n",
    "    sum_num += score\n",
    "    if score > max_num:\n",
    "        max_num = score\n",
    "    if score < min_num:\n",
    "        min_num = score\n",
    "    if 20 >= score >= 17:\n",
    "       print(f\"{name}, {score}, level of student: A+\")\n",
    "    elif 17 > score >= 15:\n",
    "        print(f\"{name}, {score}, level of student: A\")\n",
    "    elif 15 > score >= 10:\n",
    "        print(f\"{name}, {score}, level of student: B\")\n",
    "    elif 10 > score:\n",
    "        print(f\"{name}, {score}, level of student: C\") \n",
    "mean_num = sum_num / count_num\n",
    "print(f\"max_num: {max_num}, {name}\")\n",
    "print(f\"min_num: {min_num}, {name}\")\n",
    "print(f\"mean_num: {mean_num}\")\n",
    "\n"
   ]
  },
  {
   "attachments": {},
   "cell_type": "markdown",
   "metadata": {},
   "source": [
    "<div style=\"color: black;font-family:Georgia;padding-top:18px;text-align:left;background-color:lightskyblue;border-radius:15px;border: 1px solid cornflowerblue;\"> \n",
    "    <h4>Question 04 (Loop)\n",
    "</h4>\n",
    "<p>\n",
    "Write a Python program to iterate through the numbers 1 to 10. For each\n",
    "number, if it is odd, multiply it by 5 and if it is even, add 5 to it. Display each\n",
    "operation as it is performed, and at the end, show the sum of the numbers\n",
    "obtained from the even numbers and the product of the numbers obtained from\n",
    "the odd numbers. Your output should follow the format shown below:\n",
    "\n",
    "</p>\n",
    "<ul>\n",
    "    <li>1 * 5 = 5</li>\n",
    "    <li>2 + 5 = 7</li>\n",
    "    <li>3 * 5 = 15</li>\n",
    "    <li>4 + 5 = 9</li>\n",
    "    <li>5 * 5 = 25</li>\n",
    "    <li>6 + 5 = 11</li>\n",
    "    <li>7 * 5 = 35</li>\n",
    "    <li>8 + 5 = 13</li>\n",
    "    <li>9 * 5 = 45</li>\n",
    "    <li>10 + 5 = 15</li>\n",
    "</ul>\n",
    "\n",
    "</div>"
   ]
  },
  {
   "cell_type": "code",
   "execution_count": 6,
   "metadata": {},
   "outputs": [
    {
     "name": "stdout",
     "output_type": "stream",
     "text": [
      ". 1 * 5 = 5\n",
      ". 2 + 5 = 7\n",
      ". 3 * 5 = 15\n",
      ". 4 + 5 = 9\n",
      ". 5 * 5 = 25\n",
      ". 6 + 5 = 11\n",
      ". 7 * 5 = 35\n",
      ". 8 + 5 = 13\n",
      ". 9 * 5 = 45\n",
      ". 10 + 5 = 15\n"
     ]
    }
   ],
   "source": [
    "for i in range(1,11):\n",
    "    if i % 2 != 0:\n",
    "        result1 = i * 5\n",
    "        print(f\". {i} * 5 = {result1}\")\n",
    "    else:\n",
    "        result2 = i + 5\n",
    "        print(f\". {i} + 5 = {result2}\")"
   ]
  },
  {
   "attachments": {},
   "cell_type": "markdown",
   "metadata": {},
   "source": [
    "<h2 style=\"color: blue:; background-color: purple\">Good luck</h2>"
   ]
  }
 ],
 "metadata": {
  "kernelspec": {
   "display_name": "Python 3",
   "language": "python",
   "name": "python3"
  },
  "language_info": {
   "codemirror_mode": {
    "name": "ipython",
    "version": 3
   },
   "file_extension": ".py",
   "mimetype": "text/x-python",
   "name": "python",
   "nbconvert_exporter": "python",
   "pygments_lexer": "ipython3",
   "version": "3.11.3"
  }
 },
 "nbformat": 4,
 "nbformat_minor": 2
}
