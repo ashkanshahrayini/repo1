{
 "cells": [
  {
   "attachments": {},
   "cell_type": "markdown",
   "id": "fb7a8054",
   "metadata": {},
   "source": [
    "<div style=\"color: white;padding-top:18px;text-align:center;background-color:#8B008B;border-radius:15px;border: 1px solid white;\"> \n",
    "    <h3>Exercise 11 (score:300 + 50)</h3>\n",
    "</div>"
   ]
  },
  {
   "attachments": {},
   "cell_type": "markdown",
   "id": "bd5458df",
   "metadata": {},
   "source": [
    "<div style=\"color: black;font-family:Georgia;padding-top:18px;text-align:left;background-color:lightskyblue;border-radius:15px;border: 2px solid cornflowerblue;\">\n",
    "    <h4>Question 01 (Tuple)(100):</h4>\n",
    "    <p>\n",
    "        Create a Python program with below details:\n",
    "        </p>\n",
    "<li>Input a count of students.</li> \n",
    "<li>Collect each student's unique ID, name, and score into tuples.</li>\n",
    "<li>Store these tuples in a list.</li>\n",
    "<li>Input a name to search the list.</li> \n",
    "<li>Display the matching student's details, if found..</li>\n",
    "    \n",
    "</div>"
   ]
  },
  {
   "cell_type": "code",
   "execution_count": 16,
   "id": "99937553-2a26-4787-b365-d46f41243c5e",
   "metadata": {},
   "outputs": [
    {
     "name": "stdout",
     "output_type": "stream",
     "text": [
      "('12w', '14r') ('ali', 'ahmad') ('18', '19')\n",
      "[('12w', 'ali', '18'), ('14r', 'ahmad', '19')]\n"
     ]
    }
   ],
   "source": [
    "ID1=[]\n",
    "name1=[]\n",
    "score1=[]\n",
    "i= 0\n",
    "count_ = int(input(\"count of student:\"))\n",
    "while i < count_:\n",
    "      ID1.append(input(\"ID:\"))\n",
    "      name1.append(input(\"name:\"))\n",
    "      score1.append(input(\"score:\"))\n",
    "      i+=1\n",
    "ID2 = tuple(ID1)\n",
    "name2 = tuple(name1)\n",
    "score2 = tuple(score1)\n",
    "print(ID2,name2,score2)\n",
    "info = list(zip(ID2,name2,score2))\n",
    "print(info)\n",
    "    \n",
    "\n",
    "    "
   ]
  },
  {
   "cell_type": "code",
   "execution_count": null,
   "id": "f05ae2f2",
   "metadata": {},
   "outputs": [],
   "source": []
  },
  {
   "attachments": {},
   "cell_type": "markdown",
   "id": "014bb5de",
   "metadata": {},
   "source": [
    "<div style=\"color: black;font-family:Georgia;padding-top:18px;text-align:left;background-color:lightskyblue;border-radius:15px;border: 2px solid cornflowerblue;\">\n",
    "    <h4>Question 02 (set)(100):</h4>\n",
    "    <p>\n",
    "    Given two lists: list1 = [1, 2, 3, 4, 5, 6, 6, 7] and list2 = [5, 6, 7, 8, 9], write a \n",
    "program to create a list that contains only the unique elements from \n",
    "both list1 and list2. (using set)\n",
    "</p>\n",
    "</div>"
   ]
  },
  {
   "cell_type": "code",
   "execution_count": 17,
   "id": "49ba7c47",
   "metadata": {},
   "outputs": [
    {
     "name": "stdout",
     "output_type": "stream",
     "text": [
      "[1, 2, 3, 4, 5, 6, 6, 7, 5, 6, 7, 8, 9]\n",
      "{1, 2, 3, 4, 5, 6, 7, 8, 9}\n"
     ]
    }
   ],
   "source": [
    "list1 = [1,2,3,4,5,6,6,7]\n",
    "list2 = [5,6,7,8,9]\n",
    "list3 = list1 + list2\n",
    "print(list3)\n",
    "set1 = set(list3)\n",
    "print(set1)"
   ]
  },
  {
   "attachments": {},
   "cell_type": "markdown",
   "id": "5c81e750",
   "metadata": {},
   "source": [
    "<div style=\"color: black;font-family:Georgia;padding-top:18px;text-align:left;background-color:lightskyblue;border-radius:15px;border: 2px solid cornflowerblue;\">\n",
    "    <h4>Question 03 (Set)(100):</h4>\n",
    "    <p>\n",
    "    Given a list items containing strings (filenames with extensions) and \n",
    "integers, write a Python program to extract and display the unique file \n",
    "extensions from the filenames in the list. Non-string items should be \n",
    "ignored.\n",
    "</p>\n",
    "</div>"
   ]
  },
  {
   "cell_type": "code",
   "execution_count": 19,
   "id": "50e67dcd",
   "metadata": {},
   "outputs": [
    {
     "name": "stdout",
     "output_type": "stream",
     "text": [
      "{'py', 'dwg', 'pdf'}\n"
     ]
    }
   ],
   "source": [
    "filenames = [\"p1.py\", \"p2.pdf\", \"p3.dwg\"]\n",
    "exts = set()\n",
    "for i in filenames:\n",
    "    ext = i.split(\".\")[-1]\n",
    "    exts.add(ext)\n",
    "print(exts)"
   ]
  },
  {
   "attachments": {},
   "cell_type": "markdown",
   "id": "d05c947f",
   "metadata": {},
   "source": [
    "<div style=\"color: white;padding-top:18px;text-align:center;background-color:#8B008B;border-radius:15px;border: 1px solid white;\"> \n",
    "    <h3>Exercise 12 (score:300 + 50)</h3>\n",
    "</div>"
   ]
  },
  {
   "attachments": {},
   "cell_type": "markdown",
   "id": "34326ff6",
   "metadata": {},
   "source": [
    "<div style=\"color: black;font-family:Georgia;padding-top:18px;text-align:left;background-color:lightskyblue;border-radius:15px;border: 2px solid cornflowerblue;\">\n",
    "    <h4>Question 01 (Copy)(100):</h4>\n",
    "    <p>\n",
    "     Given dictionary books with book titles and their authors, perform the following:\n",
    "    </p>\n",
    "    <p>books = { \"Book1\":{\"title\": \"Learn Python\",\"authors\":[\"Author A\",\"Author B\"]},\"Book2\":{\"title\": \"AI Basics\",\"authors\":[\"Author C\"]}}</p>\n",
    "    <li>Shallow Copy Experiment:</li>\n",
    "<li>Make a shallow copy of books.</li>\n",
    "<li>Add \"Author D\" to \"Book1\" in this copy.</li>\n",
    "<li>Compare changes in the original dictionary.</li>\n",
    "<p>Deep Copy Experiment: •Create a deep copy of books.</p>\n",
    "<li>Add \"Author E\" to \"Book1\" in the deep copy.</li>\n",
    "<li>Discuss differences observed between the shallow and deep copy results.</li>\n",
    "</div>"
   ]
  },
  {
   "cell_type": "code",
   "execution_count": 40,
   "id": "2dc85e7c",
   "metadata": {},
   "outputs": [
    {
     "name": "stdout",
     "output_type": "stream",
     "text": [
      "{'Book1': {'title': 'Learn Python', 'authors': ['Author A', 'Author B', 'Author D']}, 'Book2': {'title': 'AI Basics', 'authors': ['Author C']}}\n",
      "<built-in method copy of dict object at 0x0000021F667E9280>\n",
      "False\n"
     ]
    }
   ],
   "source": [
    "books = { \"Book1\": {\"title\": \"Learn Python\", \"authors\": [\"Author A\", \"Author B\"]}, \"Book2\":{\"title\": \"AI Basics\", \"authors\": [\"Author C\"]} }\n",
    "new_books = books.copy\n",
    "books[\"Book1\"][\"authors\"]=[\"Author A\", \"Author B\", \"Author D\"]\n",
    "print(books)\n",
    "print(new_books)\n",
    "print(books is new_books)\n"
   ]
  },
  {
   "cell_type": "code",
   "execution_count": 39,
   "id": "bc51f6f2",
   "metadata": {},
   "outputs": [
    {
     "name": "stdout",
     "output_type": "stream",
     "text": [
      "{'Book1': {'title': 'Learn Python', 'authors': ['Author A', 'Author B', 'Author E']}, 'Book2': {'title': 'AI Basics', 'authors': ['Author C']}}\n",
      "{'Book1': {'title': 'Learn Python', 'authors': ['Author A', 'Author B']}, 'Book2': {'title': 'AI Basics', 'authors': ['Author C']}}\n"
     ]
    }
   ],
   "source": [
    "import copy\n",
    "books = { \"Book1\": {\"title\": \"Learn Python\", \"authors\": [\"Author A\", \"Author B\"]}, \"Book2\":{\"title\": \"AI Basics\", \"authors\": [\"Author C\"]} }\n",
    "new_books = copy.deepcopy(books)\n",
    "books[\"Book1\"][\"authors\"]=[\"Author A\", \"Author B\", \"Author E\"]\n",
    "print(books)\n",
    "print(new_books)"
   ]
  },
  {
   "attachments": {},
   "cell_type": "markdown",
   "id": "bf88bee7",
   "metadata": {},
   "source": [
    "<div style=\"color: black;font-family:Georgia;padding-top:18px;text-align:left;background-color:lightskyblue;border-radius:15px;border: 2px solid cornflowerblue;\">\n",
    "    <h4>Question 02 (ErrorHandling)(100):</h4>\n",
    "    <p>\n",
    "    Which type of error can’t handle by “Try, Except”? Give an example\n",
    "</p>\n",
    "</div>"
   ]
  },
  {
   "cell_type": "code",
   "execution_count": 49,
   "id": "906e0f5b",
   "metadata": {},
   "outputs": [
    {
     "ename": "SyntaxError",
     "evalue": "'(' was never closed (1870754695.py, line 5)",
     "output_type": "error",
     "traceback": [
      "\u001b[1;36m  Cell \u001b[1;32mIn[49], line 5\u001b[1;36m\u001b[0m\n\u001b[1;33m    result =(num1+num2\u001b[0m\n\u001b[1;37m            ^\u001b[0m\n\u001b[1;31mSyntaxError\u001b[0m\u001b[1;31m:\u001b[0m '(' was never closed\n"
     ]
    }
   ],
   "source": [
    "SyntaxError\n",
    "num1=4\n",
    "num2=7\n",
    "try:\n",
    "    result =(num1+num2\n",
    "except SyntaxError as e:\n",
    "    print(\"e\")\n",
    "print(\"end\")"
   ]
  },
  {
   "attachments": {},
   "cell_type": "markdown",
   "id": "f31d7edb",
   "metadata": {},
   "source": [
    "<div style=\"color: black;font-family:Georgia;padding-top:18px;text-align:left;background-color:lightskyblue;border-radius:15px;border: 2px solid cornflowerblue;\">\n",
    "    <h4>Question 03 (Part1)(ErrorHandling)(100):</h4>\n",
    "    <p>\n",
    "   Manage the errors of the following codes \n",
    "    </p>\n",
    "    <p>sum = 8</p>  \n",
    "    <p>numbers = [10, 12, 13]</p>\n",
    "    <p>res = sum(numbers)</p> \n",
    "    <p>print(res)</p>\n",
    "</div>"
   ]
  },
  {
   "cell_type": "code",
   "execution_count": 45,
   "id": "c062e680",
   "metadata": {},
   "outputs": [
    {
     "name": "stdout",
     "output_type": "stream",
     "text": [
      "'int' object is not callable\n",
      "end\n"
     ]
    }
   ],
   "source": [
    "sum = 8\n",
    "numbers = [10, 12, 13]\n",
    "try:\n",
    "    res = sum(numbers)\n",
    "    print(res)\n",
    "except Exception as e:\n",
    "    print(e)\n",
    "print(\"end\")"
   ]
  },
  {
   "attachments": {},
   "cell_type": "markdown",
   "id": "2a90c5f6",
   "metadata": {},
   "source": [
    "<div style=\"color: black;font-family:Georgia;padding-top:18px;text-align:left;background-color:lightskyblue;border-radius:15px;border: 2px solid cornflowerblue;\">\n",
    "    <h4>Question 03 (Part2)(ErrorHandling)(100):</h4>\n",
    "    <p>\n",
    "   Manage the errors of the following codes \n",
    "    </p>\n",
    "    <p>numbers = [2, 3, 10, 23]</p>  \n",
    "    <p>numbers.remove(300)</p>\n",
    "    <p>print(numbers[8])</p> \n",
    "</div>"
   ]
  },
  {
   "cell_type": "code",
   "execution_count": 47,
   "id": "965392e2",
   "metadata": {},
   "outputs": [
    {
     "name": "stdout",
     "output_type": "stream",
     "text": [
      "list.remove(x): x not in list\n",
      "end\n"
     ]
    }
   ],
   "source": [
    "numbers = [2, 3, 10, 23]\n",
    "try:\n",
    "    numbers.remove(300)\n",
    "    print(numbers[8])\n",
    "except Exception as e:\n",
    "    print(e)\n",
    "print(\"end\")"
   ]
  },
  {
   "attachments": {},
   "cell_type": "markdown",
   "id": "293056e3",
   "metadata": {},
   "source": [
    "<h2 style=\"color: blue:; background-color: purple\">Don't give up on your dreams :)</h2>"
   ]
  }
 ],
 "metadata": {
  "kernelspec": {
   "display_name": "Python 3 (ipykernel)",
   "language": "python",
   "name": "python3"
  },
  "language_info": {
   "codemirror_mode": {
    "name": "ipython",
    "version": 3
   },
   "file_extension": ".py",
   "mimetype": "text/x-python",
   "name": "python",
   "nbconvert_exporter": "python",
   "pygments_lexer": "ipython3",
   "version": "3.11.3"
  }
 },
 "nbformat": 4,
 "nbformat_minor": 5
}
