{
 "cells": [
  {
   "attachments": {},
   "cell_type": "markdown",
   "id": "fb7a8054",
   "metadata": {},
   "source": [
    "<div style=\"color: white;padding-top:18px;text-align:center;background-color:#8B008B;border-radius:15px;border: 1px solid white;\"> \n",
    "    <h3>Exercise 7 (score:550)</h3>\n",
    "</div>"
   ]
  },
  {
   "attachments": {},
   "cell_type": "markdown",
   "id": "bd5458df",
   "metadata": {},
   "source": [
    "<div style=\"color: black;font-family:Georgia;padding-top:18px;text-align:left;background-color:lightskyblue;border-radius:15px;border: 2px solid cornflowerblue;\">\n",
    "    <h4>Question 01 (Function)(100):</h4>\n",
    "    <p>\n",
    "        define two lists that one of them is strings and another is float, change values of both of them to int and create a list that is sum of them. use map function and lambda. \n",
    "    </p>\n",
    "</div>"
   ]
  },
  {
   "cell_type": "code",
   "execution_count": 3,
   "id": "99937553-2a26-4787-b365-d46f41243c5e",
   "metadata": {},
   "outputs": [
    {
     "name": "stdout",
     "output_type": "stream",
     "text": [
      "[1, 2, 3, 4] [24, 8, 6, 4]\n",
      "[25, 10, 9, 8]\n"
     ]
    }
   ],
   "source": [
    "list1 = [\"1\" , \"2\" , \"3\" , \"4\"]\n",
    "list2 = [24.7 , 8.9 , 6.3 , 4.8]\n",
    "list3 = []\n",
    "list4 = []\n",
    "list3 = list(map(int,list1))\n",
    "list4 = list(map(int,list2))\n",
    "print(list3 , list4)\n",
    "sum_ = list(map(lambda x,y : x+y , list3 , list4))\n",
    "print(sum_)"
   ]
  },
  {
   "attachments": {},
   "cell_type": "markdown",
   "id": "014bb5de",
   "metadata": {},
   "source": [
    "<div style=\"color: black;font-family:Georgia;padding-top:18px;text-align:left;background-color:lightskyblue;border-radius:15px;border: 2px solid cornflowerblue;\">\n",
    "    <h4>Question 02 (Function)(100):</h4>\n",
    "    <p>\n",
    "        Write a Python program where users input two numbers and choose an operation ( +, -, *, /,**).Use lambda functions for calculations. If division is chosen and the second number is zero, replace it with one, notify the user, and proceed. The program should handle invalid operations gracefully.  \n",
    "    </p>\n",
    "</div>"
   ]
  },
  {
   "cell_type": "code",
   "execution_count": 15,
   "id": "064621d4",
   "metadata": {},
   "outputs": [
    {
     "name": "stdout",
     "output_type": "stream",
     "text": [
      "invalid\n"
     ]
    }
   ],
   "source": [
    "num1_ = float(input(\"Enter two numbers:\"))\n",
    "num2_ = float(input(\"Enter two numbers:\"))\n",
    "chose_ = input(\"Enter one of +, -, /, *, ** \")\n",
    "if   chose_ == \"+\" :\n",
    "     sum_ = lambda num1,num2 : num1 + num2\n",
    "     print(sum_(num1_,num2_))\n",
    "elif chose_ == \"-\" :\n",
    "     minus_ = lambda num1,num2 : num1 - num2\n",
    "     print(minus_(num1_,num2_))\n",
    "elif chose_ == \"*\" :\n",
    "     multipl_ = lambda num1,num2 : num1 * num2\n",
    "     print(multipl_(num1_,num2_))\n",
    "elif chose_ == \"**\" :\n",
    "     pow_ = lambda num1,num2 : num1 ** num2\n",
    "     print(pow_(num1_,num2_))\n",
    "else:\n",
    "        if num2_ == 0:\n",
    "          print(\"invalid\")\n",
    "        else:\n",
    "             div_ = lambda num1,num2 : num1 / num2 \n",
    "             print( div_(num1_,num2_))\n",
    "\n"
   ]
  },
  {
   "attachments": {},
   "cell_type": "markdown",
   "id": "5c81e750",
   "metadata": {},
   "source": [
    "<div style=\"color: black;font-family:Georgia;padding-top:18px;text-align:left;background-color:lightskyblue;border-radius:15px;border: 2px solid cornflowerblue;\">\n",
    "    <h4>Question 03 (Function)(100):</h4>\n",
    "    <p>\n",
    "        You have a list of numbers, and you need to perform the following tasks using the filter function: </p> \n",
    "        <p>•\tWrite a function that filters out all the negative numbers from the list.</p>\n",
    "        <p>•\tWrite a function that filters out all the numbers that are less than the average of the list.</p>\n",
    "       <p> •\tWrite a function that filters out all the even numbers from the list.</p>\n",
    "    </p>\n",
    "</div>"
   ]
  },
  {
   "cell_type": "code",
   "execution_count": 21,
   "id": "50e67dcd",
   "metadata": {},
   "outputs": [
    {
     "name": "stdout",
     "output_type": "stream",
     "text": [
      "[-5, -9]\n",
      "[-5, -9, 4]\n",
      "[8, 4, 12]\n"
     ]
    }
   ],
   "source": [
    "numbers = [-5 , -9 , 8 , 4 , 12 , 15 , 17]\n",
    "result1 = list(filter(lambda x : x <= 0 , numbers))\n",
    "print(result1)\n",
    "sum_num = sum(numbers)\n",
    "len_num = len(numbers)\n",
    "avg = sum_num/len_num\n",
    "result2 = list(filter(lambda x : x <= avg , numbers))\n",
    "print (result2)\n",
    "result3 = list(filter(lambda x : x % 2 == 0, numbers))\n",
    "print(result3)"
   ]
  },
  {
   "attachments": {},
   "cell_type": "markdown",
   "id": "34326ff6",
   "metadata": {},
   "source": [
    "<div style=\"color: black;font-family:Georgia;padding-top:18px;text-align:left;background-color:lightskyblue;border-radius:15px;border: 2px solid cornflowerblue;\">\n",
    "    <h4>Question 04 (Function)(100):</h4>\n",
    "    <p>\n",
    "        Write a function that takes a list of email addresses and returns a new list containing only the valid email addresses. For simplicity, consider an email valid if it contains exactly one \"@11 symbol and at least one \".11 after the 11@\" symbol. Use the filter function to accomplish this. \n",
    "    </p>\n",
    "</div>"
   ]
  },
  {
   "cell_type": "code",
   "execution_count": 23,
   "id": "3384ea23",
   "metadata": {},
   "outputs": [
    {
     "name": "stdout",
     "output_type": "stream",
     "text": [
      "['asfhj5ghj']\n"
     ]
    }
   ],
   "source": [
    "def dif_email (x):\n",
    "    if \"@\" is in x:\n",
    "        list(x.split(\"@\"))\n",
    "    ##### time is off / I DONT ENOUGH TIME TO COMPLETE THIS EXERCISE NOUMBER 04\n",
    "    \n",
    "      \n",
    "    \n",
    "list1=[\"ashkan@gmail.com\", \"ali@gmail.com\", \"ahmad ahmadi\" ]\n",
    "result = list(filter(dif_email,list1))\n",
    "print(result)"
   ]
  },
  {
   "attachments": {},
   "cell_type": "markdown",
   "id": "f31d7edb",
   "metadata": {},
   "source": [
    "<div style=\"color: black;font-family:Georgia;padding-top:18px;text-align:left;background-color:lightskyblue;border-radius:15px;border: 2px solid cornflowerblue;\">\n",
    "    <h4>Question 05 (Function)(100):</h4>\n",
    "    <p>\n",
    "        Write a function that takes a list of integers and checks if any of the numbers are greater than 100 but less than 200. The function should return True if at least one number in the list falls \n",
    "        within this range, otherwise False. \n",
    "    </p>\n",
    "</div>"
   ]
  },
  {
   "cell_type": "code",
   "execution_count": 28,
   "id": "6fb8490b",
   "metadata": {},
   "outputs": [
    {
     "name": "stdout",
     "output_type": "stream",
     "text": [
      "True\n"
     ]
    }
   ],
   "source": [
    "list_ = [23 , 56 , 145 , 245]\n",
    "result = any(map(lambda x : 100 < x < 200 , list_))\n",
    "print(result)"
   ]
  },
  {
   "attachments": {},
   "cell_type": "markdown",
   "id": "5a2189dd",
   "metadata": {},
   "source": [
    "<div style=\"color: black;font-family:Georgia;padding-top:18px;text-align:left;background-color:lightskyblue;border-radius:15px;border: 2px solid cornflowerblue;\">\n",
    "    <h4>Question 06 (Function)(50):</h4>\n",
    "    <p>\n",
    "        Define a function that takes a sentence as input and returns the number of words in the sentence. \n",
    "    </p>\n",
    "</div>"
   ]
  },
  {
   "cell_type": "code",
   "execution_count": 23,
   "id": "e7a1fa52",
   "metadata": {},
   "outputs": [
    {
     "data": {
      "text/plain": [
       "5"
      ]
     },
     "execution_count": 23,
     "metadata": {},
     "output_type": "execute_result"
    }
   ],
   "source": [
    "sentence_ = input(\"Enter your sentence:\")\n",
    "def num_word(x):\n",
    "    break_sen = list(x . split())\n",
    "    return len(break_sen)\n",
    "num_word(sentence_)\n",
    "\n",
    "\n",
    "\n",
    "\n"
   ]
  },
  {
   "attachments": {},
   "cell_type": "markdown",
   "id": "293056e3",
   "metadata": {},
   "source": [
    "<h2 style=\"color: blue:; background-color: purple\">Good luck</h2>"
   ]
  }
 ],
 "metadata": {
  "kernelspec": {
   "display_name": "Python 3 (ipykernel)",
   "language": "python",
   "name": "python3"
  },
  "language_info": {
   "codemirror_mode": {
    "name": "ipython",
    "version": 3
   },
   "file_extension": ".py",
   "mimetype": "text/x-python",
   "name": "python",
   "nbconvert_exporter": "python",
   "pygments_lexer": "ipython3",
   "version": "3.11.3"
  }
 },
 "nbformat": 4,
 "nbformat_minor": 5
}
