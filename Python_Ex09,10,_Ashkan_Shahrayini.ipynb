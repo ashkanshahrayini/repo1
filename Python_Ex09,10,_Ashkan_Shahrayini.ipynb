{
 "cells": [
  {
   "attachments": {},
   "cell_type": "markdown",
   "id": "29d8f8d6",
   "metadata": {},
   "source": [
    "<div style=\"color: white;padding-top:18px;text-align:center;background-color:#8B008B;border-radius:15px;border: 1px solid white;\"> \n",
    "    <h3>Exercise 9 (score:300+50)</h3>\n",
    "</div>"
   ]
  },
  {
   "attachments": {},
   "cell_type": "markdown",
   "id": "4431989d",
   "metadata": {},
   "source": [
    "<div style=\"color: black;font-family:Georgia;padding-top:18px;text-align:left;background-color:lightskyblue;border-radius:15px;border: 2px solid cornflowerblue;\">\n",
    "    <h4>Question 01 (Project)(100):</h4>\n",
    "    <p>\n",
    "        write project6 by dictionary\n",
    "    </p>\n",
    "</div>"
   ]
  },
  {
   "cell_type": "code",
   "execution_count": null,
   "id": "c7ac71c0",
   "metadata": {},
   "outputs": [],
   "source": [
    "TO_DO_LIST = {}\n",
    "def help():\n",
    "    help = \"\"\"\n",
    "    Commands:\n",
    "    1. Add a New Task\n",
    "    2. Display all tasks\n",
    "    3. Remove a task by Name\n",
    "    4. Edit the name of an existing task\n",
    "    5. Search for a task by name\n",
    "    6. help\n",
    "    7. Show details of all tasks\n",
    "    8. Show this help message\n",
    "    9. Exit the program\n",
    "    \"\"\"\n",
    "    print(help)\n",
    "\n",
    "def add_task():\n",
    "    task_id = input(\"task id:\").strip()\n",
    "    if task_id in TO_DO_LIST:\n",
    "        print(\"Id is already exist!\")\n",
    "        return\n",
    "    task_name = input(\"task name:\")\n",
    "    task_status = input(\"task status:\")\n",
    "    task_duration = int(input(\"task duration\"))\n",
    "    task = {\n",
    "        \"name\" : task_name,\n",
    "        \"status\" : task_status,\n",
    "        \"duration\" : task_duration\n",
    "    }\n",
    "    TO_DO_LIST[task_id] = task\n",
    "    print(\"Added!\")\n",
    "\n",
    "def remove(task_id):\n",
    "    if task_id in TO_DO_LIST:\n",
    "        TO_DO_LIST.pop(task_id)\n",
    "        print(\"Removed!\")\n",
    "        return\n",
    "    print(\"Not found\")\n",
    "\n",
    "def edit_task(task_id):\n",
    "    if task_id not in TO_DO_LIST:\n",
    "        print(\"Not found\")\n",
    "        return\n",
    "    new_name = input(\"new name:\")\n",
    "    new_status = input(\"status\")\n",
    "    new_duration = input(\"duration:\")\n",
    "    TO_DO_LIST[task_id][\"name\"] = new_name or TO_DO_LIST[task_id][\"name\"]\n",
    "    TO_DO_LIST[task_id][\"status\"] = new_status or TO_DO_LIST[task_id][\"status\"]\n",
    "    TO_DO_LIST[task_id][\"duration\"] = int(new_duration or TO_DO_LIST[task_id][\"duration\"])\n",
    "    print(\"Updated!\")\n",
    "\n",
    "def display_task(task):\n",
    "    for k , v in task . items():\n",
    "        print(f\"{k} : {v}\")\n",
    "\n",
    "def search_by_id(task_id):\n",
    "    if task_id in TO_DO_LIST:\n",
    "        task = TO_DO_LIST[task_id]\n",
    "        display_task(task)\n",
    "    else:\n",
    "        print(\"Not found!\")\n",
    "\n",
    "def search_by_name(name):\n",
    "    not_found = True\n",
    "    for p in TO_DO_LIST.values():\n",
    "        if p[\"name\"] == name:\n",
    "            not_found = False\n",
    "            display_task(p)\n",
    "            print()\n",
    "    if not_found:\n",
    "        print(\"Not found!\")\n",
    "\n",
    "def details():\n",
    "    if not TO_DO_LIST:\n",
    "        print(\"Empty\")\n",
    "    for key , value in TO_DO_LIST.items():\n",
    "        print(key)\n",
    "        display_task(value)\n",
    "\n",
    "for i in range(200):\n",
    "    command = input(\"Enter the command or help for more information: \").lower()\n",
    "   \n",
    "    if command == \"6\" :\n",
    "        print(help)\n",
    "\n",
    "    elif command == \"1\":\n",
    "        task_id = input(\"Enter the task id: \")\n",
    "        add_task()\n",
    "\n",
    "    elif command == \"3\":\n",
    "       task_id = input(\"Enter the task id you want to remove: \")\n",
    "       remove(task_id)\n",
    "\n",
    "    elif command == \"4\":\n",
    "        task_id = input(\"Enter the task id you want to edit: \")\n",
    "        edit_task(task_id)\n",
    "\n",
    "    elif command == \"5\":\n",
    "        task_id = input(\"Enter the task id: \")\n",
    "        search_by_id(task_id)\n",
    "\n",
    "    elif command == \"7\":\n",
    "        details()\n",
    "  \n",
    "    elif command == \"2\":\n",
    "        display_task()\n",
    "\n",
    "    elif command == \"\":\n",
    "        continue\n",
    "\n",
    "    elif command == \"exit\":\n",
    "        break\n",
    "\n",
    "    else:\n",
    "        print(f\"The command {command} not found!\")\n",
    "\n",
    "\n",
    "        \n",
    "\n",
    "\n",
    "\n",
    "    \n"
   ]
  },
  {
   "attachments": {},
   "cell_type": "markdown",
   "id": "fb7a8054",
   "metadata": {},
   "source": [
    "<div style=\"color: white;padding-top:18px;text-align:center;background-color:#8B008B;border-radius:15px;border: 1px solid white;\"> \n",
    "    <h3>Exercise 10 (score:200+50)</h3>\n",
    "</div>"
   ]
  },
  {
   "attachments": {},
   "cell_type": "markdown",
   "id": "bd5458df",
   "metadata": {},
   "source": [
    "<div style=\"color: black;font-family:Georgia;padding-top:18px;text-align:left;background-color:lightskyblue;border-radius:15px;border: 2px solid cornflowerblue;\">\n",
    "    <h4>Question 01 (Function)(100):</h4>\n",
    "    <p>\n",
    "        Implement a recursive Python function that asks for a student's score \n",
    "        until it receives a value between 0 and 20, then returns that valid score.\n",
    "    </p>\n",
    "</div>"
   ]
  },
  {
   "cell_type": "code",
   "execution_count": null,
   "id": "ff88e96c",
   "metadata": {},
   "outputs": [],
   "source": []
  },
  {
   "attachments": {},
   "cell_type": "markdown",
   "id": "014bb5de",
   "metadata": {},
   "source": [
    "<div style=\"color: black;font-family:Georgia;padding-top:18px;text-align:left;background-color:lightskyblue;border-radius:15px;border: 2px solid cornflowerblue;\">\n",
    "    <h4>Question 02 (Function)(100):</h4>\n",
    "    <p>\n",
    "        Create a Python function that recursively multiplies all the numbers between two user provided integers.\n",
    "    </p>\n",
    "</div>"
   ]
  },
  {
   "cell_type": "code",
   "execution_count": 4,
   "id": "575abb33",
   "metadata": {},
   "outputs": [
    {
     "data": {
      "text/plain": [
       "8"
      ]
     },
     "execution_count": 4,
     "metadata": {},
     "output_type": "execute_result"
    }
   ],
   "source": [
    "def multiplication(num1,num2):\n",
    "    if num1 == 0 or num2 == 0:\n",
    "        return 0\n",
    "    return num1 + multiplication(num1, num2 - 1) \n",
    "user_num1 =int(input(\"your num1:\"))\n",
    "user_num2 =int(input(\"your num2\"))\n",
    "multiplication(user_num1,user_num2)"
   ]
  },
  {
   "attachments": {},
   "cell_type": "markdown",
   "id": "293056e3",
   "metadata": {},
   "source": [
    "<h2 style=\"color: blue:; background-color: purple\">You automaticly lose the chance you dont take.Trust yourself. you can do this</h2>"
   ]
  },
  {
   "cell_type": "markdown",
   "id": "4c7d7ea0",
   "metadata": {},
   "source": []
  }
 ],
 "metadata": {
  "kernelspec": {
   "display_name": "Python 3 (ipykernel)",
   "language": "python",
   "name": "python3"
  },
  "language_info": {
   "codemirror_mode": {
    "name": "ipython",
    "version": 3
   },
   "file_extension": ".py",
   "mimetype": "text/x-python",
   "name": "python",
   "nbconvert_exporter": "python",
   "pygments_lexer": "ipython3",
   "version": "3.11.3"
  }
 },
 "nbformat": 4,
 "nbformat_minor": 5
}
