{
 "cells": [
  {
   "attachments": {},
   "cell_type": "markdown",
   "id": "fb7a8054",
   "metadata": {},
   "source": [
    "<div style=\"color: white;padding-top:18px;text-align:center;background-color:#8B008B;border-radius:15px;border: 1px solid white;\"> \n",
    "    <h3>Exercise 5 (score:100)</h3>\n",
    "</div>"
   ]
  },
  {
   "attachments": {},
   "cell_type": "markdown",
   "id": "bd5458df",
   "metadata": {},
   "source": [
    "<div style=\"color: black;font-family:Georgia;padding-top:18px;text-align:left;background-color:lightskyblue;border-radius:15px;border: 2px solid cornflowerblue;\">\n",
    "    <h4>Question 01 (List)(100):</h4>\n",
    "    <p>\n",
    "    Create a Python program that first prompts the user to enter 10 numbers, which are then stored in a list. Subsequently, request the user to input a new number. If this new number is present in the list, remove all occurrences of it. if it1s not found, insert the number twice at the beginning of the list. Finally, display the modified list to the user.\n",
    "    </p>\n",
    "</div>"
   ]
  },
  {
   "cell_type": "code",
   "execution_count": 5,
   "id": "99937553-2a26-4787-b365-d46f41243c5e",
   "metadata": {},
   "outputs": [
    {
     "name": "stdout",
     "output_type": "stream",
     "text": [
      "[1, 2, 3, 4, 5, 1, 2, 3, 4, 5]\n",
      "[8, 8, 1, 2, 3, 4, 5, 1, 2, 3, 4, 5]\n"
     ]
    }
   ],
   "source": [
    "user_list = []\n",
    "for i in range(10):\n",
    "    user_num = int(input(\"Enter your number\"))\n",
    "    user_list . append (user_num)\n",
    "print(user_list)\n",
    "new_num = int(input(\"Enter your new number\"))\n",
    "if new_num in user_list:\n",
    "    c_num = user_list . count(new_num)\n",
    "    for i in range (c_num):\n",
    "        user_list.remove(new_num)\n",
    "    print(user_list)\n",
    "else:\n",
    "    for i in range(2):\n",
    "         user_list.insert(0,new_num)\n",
    "    print(user_list)    \n",
    "\n",
    "\n"
   ]
  },
  {
   "attachments": {},
   "cell_type": "markdown",
   "id": "1366c3f5",
   "metadata": {},
   "source": [
    "3\n",
    "<div style=\"color: white;padding-top:18px;text-align:center;background-color:#8B008B;border-radius:15px;border: 1px solid white;\"> \n",
    "    <h3>Exercise 6 (score:500)</h3>\n",
    "</div>"
   ]
  },
  {
   "cell_type": "code",
   "execution_count": 2,
   "id": "b53d3d58",
   "metadata": {},
   "outputs": [
    {
     "name": "stdout",
     "output_type": "stream",
     "text": [
      "add means add a new task name to the list, display means display all data by details,remove means remove a task from the list based on its name,edit means edit the name of an existing task,search means search for a task by name and display its details,mark means mark task as done and record the time duration it took to complete,detailes mean show detailes of all tasks\n",
      "Added\n",
      "Added\n",
      "Added\n",
      "1 sport False None\n",
      "2 study False None\n",
      "3 work False None\n",
      "Done\n",
      "diplay : command not found !\n",
      "1 sport True 3\n",
      "2 study False None\n",
      "3 work False None\n",
      "number of tasks : 3\n",
      "completed : 1\n",
      "Not completed : 2\n",
      "total hour : 3\n"
     ]
    }
   ],
   "source": [
    "task_names = []\n",
    "task_statuses = []\n",
    "task_durations = []\n",
    "help = (\"add means add a new task name to the list, display means display all data by details,\\\n",
    "remove means remove a task from the list based on its name,edit means edit the name of an existing task,\\\n",
    "search means search for a task by name and display its details,\\\n",
    "mark means mark task as done and record the time duration it took to complete,\\\n",
    "detailes mean show detailes of all tasks\")\n",
    "print(help)\n",
    "for i in range(200):\n",
    "    answer = input(\"add, display,remove, edit, search, mark, details, exit\")\n",
    "    answer = answer.lower()\n",
    "    if answer == \"add\":\n",
    "        name = input(\"task name:\").lower()\n",
    "        if name not in task_names:\n",
    "             task_names.append(name)\n",
    "             task_statuses.append(False)\n",
    "             task_durations.append(None)\n",
    "             print(\"Added\")\n",
    "        else:\n",
    "            print(\"Already Exist\")\n",
    "    elif answer == \"display\":\n",
    "        for i, name in enumerate(task_names):\n",
    "            print(i+1, name, task_statuses[i], task_durations[i])\n",
    "    elif answer == \"remove\":\n",
    "        name = input(\"name for remove:\").lower()\n",
    "        if name in task_names:\n",
    "            i = task_names. index(name)\n",
    "            task_names.pop(i)\n",
    "            task_statuses.pop(i)\n",
    "            task_durations.pop(i)\n",
    "            print(\"removed\")\n",
    "        else:\n",
    "            print(\"not found\")\n",
    "    elif answer == \"edit\":\n",
    "        name = input(\"name for edit\").lower()\n",
    "        if name in task_names:\n",
    "            new_name = input(\"new name:\").lower()\n",
    "            if new_name not in task_names:\n",
    "                i = task_names.index(name)\n",
    "                task_names[i] = new_name\n",
    "                print(\"Edited\")\n",
    "            else:\n",
    "                print(\"Already Existed\")\n",
    "    elif answer == \"search\":\n",
    "        name = input(\"name for search:\").lower()\n",
    "        if name in task_names:\n",
    "            i = task_names.index(name)\n",
    "            status = task_statuses[i]\n",
    "            duration = task_durations[i]\n",
    "            print(f\"status : {status}, duration : {duration}\")\n",
    "        else:\n",
    "            print(\"Not found\")\n",
    "    elif answer == \"mark\":\n",
    "        name = input(\"task_name for mark\").lower()\n",
    "        if name in task_names:\n",
    "            i = task_names.index(name)\n",
    "            if  task_statuses[i] == False:\n",
    "                start_time = int(input(\"start time relate to this task:\"))\n",
    "                finish_time = int(input(\"finish time relate to this task:\"))\n",
    "                Duration = finish_time - start_time\n",
    "                task_statuses[i] = True\n",
    "                task_durations[i] = Duration\n",
    "                print(\"Done\")\n",
    "            else:\n",
    "                print(\"Invalid\")\n",
    "        else:\n",
    "            print(\"Not found:\")\n",
    "        \n",
    "    elif answer == \"details\":\n",
    "        numbers = len(task_names)\n",
    "        not_completed = task_statuses.count(False)\n",
    "        completed = sum(task_statuses)\n",
    "        print(f\"number of tasks : {numbers}\")\n",
    "        print(f\"completed : {completed}\")\n",
    "        print(f\"Not completed : {not_completed}\")\n",
    "        hours = []\n",
    "        for h in task_durations:\n",
    "            if h:\n",
    "                hours.append(h)\n",
    "        sum_hour = sum(hours)\n",
    "        print(f\"total hour : {sum_hour}\")\n",
    "    elif answer == \"exit\":\n",
    "        break\n",
    "    elif answer == \"\":\n",
    "        continue\n",
    "    else:\n",
    "        print(f\"{answer} : command not found !\")"
   ]
  },
  {
   "attachments": {},
   "cell_type": "markdown",
   "id": "293056e3",
   "metadata": {},
   "source": [
    "<h2 style=\"color: blue:; background-color: purple\">Good luck</h2>"
   ]
  },
  {
   "attachments": {},
   "cell_type": "markdown",
   "id": "97bfc625",
   "metadata": {},
   "source": []
  }
 ],
 "metadata": {
  "kernelspec": {
   "display_name": "Python 3 (ipykernel)",
   "language": "python",
   "name": "python3"
  },
  "language_info": {
   "codemirror_mode": {
    "name": "ipython",
    "version": 3
   },
   "file_extension": ".py",
   "mimetype": "text/x-python",
   "name": "python",
   "nbconvert_exporter": "python",
   "pygments_lexer": "ipython3",
   "version": "3.11.3"
  }
 },
 "nbformat": 4,
 "nbformat_minor": 5
}
